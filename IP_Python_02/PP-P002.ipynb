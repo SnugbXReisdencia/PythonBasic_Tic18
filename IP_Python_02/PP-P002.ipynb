{
 "cells": [
  {
   "cell_type": "code",
   "execution_count": 19,
   "metadata": {},
   "outputs": [],
   "source": [
    "tarefas = []"
   ]
  },
  {
   "cell_type": "code",
   "execution_count": 21,
   "metadata": {},
   "outputs": [],
   "source": [
    "def registro_tarefas(tarefas):\n",
    "    tarefa = {}\n",
    "    tarefa[\"Descrição\"] = input(\"Descrição: \")\n",
    "    tarefa[\"Descrição\"].capitalize()\n",
    "    tarefa[\"ID\"] = len(tarefas) + 1\n",
    "    tarefa[\"status\"] = \"[ ]\"\n",
    "    tarefas.append(tarefa)\n",
    "\n",
    "registro_tarefas(tarefas)"
   ]
  },
  {
   "cell_type": "code",
   "execution_count": 24,
   "metadata": {},
   "outputs": [
    {
     "name": "stdout",
     "output_type": "stream",
     "text": [
      "ID:  1\n",
      "Descrição: fazer coco [ ]\n",
      "ID:  2\n",
      "Descrição: kika linda [X]\n"
     ]
    }
   ],
   "source": [
    "def listar_tarefas(tarefas):\n",
    "    for tarefa in tarefas:\n",
    "        print(\"ID: \", tarefa[\"ID\"])\n",
    "        if tarefa[\"status\"] == \"[ ]\":\n",
    "            print(f\"Descrição: {tarefa['Descrição']} {tarefa['status']}\")\n",
    "        else:\n",
    "            print(f\"Descrição: {tarefa['Descrição']} {tarefa['status']}\")\n",
    "\n",
    "listar_tarefas(tarefas)"
   ]
  },
  {
   "cell_type": "code",
   "execution_count": 23,
   "metadata": {},
   "outputs": [
    {
     "name": "stdout",
     "output_type": "stream",
     "text": [
      "Tarefa concluída!\n"
     ]
    }
   ],
   "source": [
    "def concluir_tarefas(tarefas):\n",
    "    id = int(input(\"ID da tarefa que deseja concluir: \"))\n",
    "    for tarefa in tarefas:\n",
    "        if tarefa[\"ID\"] == id:\n",
    "            tarefa[\"status\"] = \"[X]\"\n",
    "            return True\n",
    "    return False\n",
    "\n",
    "if concluir_tarefas(tarefas): print(\"Tarefa concluída!\") \n",
    "else : print(\"Tarefa não encontrada\")"
   ]
  }
 ],
 "metadata": {
  "kernelspec": {
   "display_name": "Python 3",
   "language": "python",
   "name": "python3"
  },
  "language_info": {
   "codemirror_mode": {
    "name": "ipython",
    "version": 3
   },
   "file_extension": ".py",
   "mimetype": "text/x-python",
   "name": "python",
   "nbconvert_exporter": "python",
   "pygments_lexer": "ipython3",
   "version": "3.11.0"
  }
 },
 "nbformat": 4,
 "nbformat_minor": 2
}
