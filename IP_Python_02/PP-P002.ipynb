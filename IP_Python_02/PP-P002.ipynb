{
 "cells": [
  {
   "cell_type": "code",
   "execution_count": 2,
   "metadata": {},
   "outputs": [
    {
     "name": "stdout",
     "output_type": "stream",
     "text": [
      "[{'Descrição': 'fazer coco', 'ID': 1, 'status': '[]'}]\n"
     ]
    }
   ],
   "source": [
    "tarefas = []\n",
    "\n",
    "def registro_tarefas(tarefas):\n",
    "    tarefa = {}\n",
    "    tarefa[\"Descrição\"] = input(\"Descrição: \")\n",
    "    tarefa[\"Descrição\"].capitalize()\n",
    "    tarefa[\"ID\"] = len(tarefas) + 1\n",
    "    tarefa[\"status\"] = \"[]\"\n",
    "    tarefas.append(tarefa)\n"
   ]
  }
 ],
 "metadata": {
  "kernelspec": {
   "display_name": "Python 3",
   "language": "python",
   "name": "python3"
  },
  "language_info": {
   "codemirror_mode": {
    "name": "ipython",
    "version": 3
   },
   "file_extension": ".py",
   "mimetype": "text/x-python",
   "name": "python",
   "nbconvert_exporter": "python",
   "pygments_lexer": "ipython3",
   "version": "3.11.0"
  }
 },
 "nbformat": 4,
 "nbformat_minor": 2
}
