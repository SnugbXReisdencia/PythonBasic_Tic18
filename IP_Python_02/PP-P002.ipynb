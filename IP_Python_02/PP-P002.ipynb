{
 "cells": [
  {
   "cell_type": "code",
   "execution_count": 68,
   "metadata": {},
   "outputs": [],
   "source": [
    "tarefas = []"
   ]
  },
  {
   "cell_type": "code",
   "execution_count": 88,
   "metadata": {},
   "outputs": [],
   "source": [
    "def registro_tarefas(tarefas):\n",
    "    tarefa = {}\n",
    "    tarefa[\"Descrição\"] = input(\"Descrição: \")\n",
    "    tarefa[\"Descrição\"].capitalize()\n",
    "    tarefa[\"ID\"] = len(tarefas) + 1\n",
    "    tarefa[\"status\"] = \"[ ]\"\n",
    "    tarefas.append(tarefa)\n",
    "\n",
    "registro_tarefas(tarefas)"
   ]
  },
  {
   "cell_type": "code",
   "execution_count": 91,
   "metadata": {},
   "outputs": [
    {
     "name": "stdout",
     "output_type": "stream",
     "text": [
      "ID:  3\n",
      "Descrição: ppppppp [X]\n",
      "ID:  1\n",
      "Descrição: kika [X]\n",
      "ID:  2\n",
      "Descrição: lula [X]\n"
     ]
    }
   ],
   "source": [
    "def listar_tarefas(tarefas):\n",
    "    for tarefa in tarefas:\n",
    "        print(\"ID: \", tarefa[\"ID\"])\n",
    "        if tarefa[\"status\"] == \"[ ]\":\n",
    "            print(f\"Descrição: {tarefa['Descrição']} {tarefa['status']}\")\n",
    "        else:\n",
    "            print(f\"Descrição: {tarefa['Descrição']} {tarefa['status']}\")\n",
    "\n",
    "listar_tarefas(tarefas)"
   ]
  },
  {
   "cell_type": "code",
   "execution_count": 93,
   "metadata": {},
   "outputs": [
    {
     "name": "stdout",
     "output_type": "stream",
     "text": [
      "Tarafa já foi concluida!!!\n"
     ]
    }
   ],
   "source": [
    "def concluir_tarefas(tarefas):\n",
    "    id = int(input(\"ID da tarefa que deseja concluir: \"))\n",
    "    for i, val in enumerate(tarefas):\n",
    "        if val[\"ID\"] == id:\n",
    "            if val[\"status\"] != \"[X]\":\n",
    "                val[\"status\"] = \"[X]\"\n",
    "                tarefas.pop(i)\n",
    "                tarefas.insert(0, val)\n",
    "                print(\"Tarefa concluída!\")\n",
    "                return\n",
    "            else:\n",
    "                print(\"Tarafa já foi concluida!!!\")\n",
    "                return\n",
    "    \n",
    "    print(\"Tarefa não encontrada !!\")\n",
    "\n",
    "concluir_tarefas(tarefas)\n"
   ]
  },
  {
   "cell_type": "code",
   "execution_count": null,
   "metadata": {},
   "outputs": [],
   "source": []
  }
 ],
 "metadata": {
  "kernelspec": {
   "display_name": "Python 3",
   "language": "python",
   "name": "python3"
  },
  "language_info": {
   "codemirror_mode": {
    "name": "ipython",
    "version": 3
   },
   "file_extension": ".py",
   "mimetype": "text/x-python",
   "name": "python",
   "nbconvert_exporter": "python",
   "pygments_lexer": "ipython3",
   "version": "3.11.0"
  }
 },
 "nbformat": 4,
 "nbformat_minor": 2
}
