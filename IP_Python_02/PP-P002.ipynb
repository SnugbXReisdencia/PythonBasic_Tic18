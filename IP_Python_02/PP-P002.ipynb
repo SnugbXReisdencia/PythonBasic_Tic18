{
 "cells": [
  {
   "cell_type": "code",
   "execution_count": 1,
   "metadata": {},
   "outputs": [],
   "source": [
    "tarefas = []"
   ]
  },
  {
   "cell_type": "code",
   "execution_count": 2,
   "metadata": {},
   "outputs": [],
   "source": [
    "def registro_tarefas(tarefas):\n",
    "    print(10*\"#\"+f\" Registrar Tarefas \"+10*\"#\")\n",
    "    tarefa = {}\n",
    "    tarefa[\"Descrição\"] = input(\"Descrição: \")\n",
    "    tarefa[\"Descrição\"].capitalize()\n",
    "    tarefa[\"ID\"] = len(tarefas) + 1\n",
    "    tarefa[\"status\"] = \"[ ]\"\n",
    "    tarefas.append(tarefa)"
   ]
  },
  {
   "cell_type": "code",
   "execution_count": 3,
   "metadata": {},
   "outputs": [],
   "source": [
    "def listar_tarefas(tarefas):\n",
    "    print(10*\"#\"+f\" Listar Tarefas \"+10*\"#\")\n",
    "    for tarefa in tarefas:\n",
    "        print(\"ID: \", tarefa[\"ID\"])\n",
    "        if tarefa[\"status\"] == \"[ ]\":\n",
    "            print(f\"Descrição: {tarefa['Descrição']} {tarefa['status']}\")\n",
    "        else:\n",
    "            print(f\"Descrição: {tarefa['Descrição']} {tarefa['status']}\")"
   ]
  },
  {
   "cell_type": "code",
   "execution_count": 4,
   "metadata": {},
   "outputs": [],
   "source": [
    "def concluir_tarefas(tarefas):\n",
    "    print(10*\"#\"+f\" Concluir Tarefas \"+10*\"#\")\n",
    "    id = int(input(\"ID da tarefa que deseja concluir: \"))\n",
    "    for i, val in enumerate(tarefas):\n",
    "        if val[\"ID\"] == id:\n",
    "            if val[\"status\"] != \"[X]\":\n",
    "                val[\"status\"] = \"[X]\"\n",
    "                tarefas.pop(i)\n",
    "                tarefas.insert(0, val)\n",
    "                print(\"Tarefa concluída!\")\n",
    "                return\n",
    "            else:\n",
    "                print(\"Tarafa já foi concluida!!!\")\n",
    "                return\n",
    "    \n",
    "    print(\"Tarefa não encontrada !!\")\n"
   ]
  },
  {
   "cell_type": "code",
   "execution_count": 5,
   "metadata": {},
   "outputs": [],
   "source": [
    "def editar_tarefas(tarefas):\n",
    "    print(10*\"#\"+f\" Editar de Tarefas \"+10*\"#\")\n",
    "    id = int(input(\"ID da tarefa que deseja editar: \"))\n",
    "    for i, val in enumerate(tarefas):\n",
    "        if val[\"ID\"] == id:\n",
    "            srt = input(\"Nova Descrição: \")\n",
    "            opc = input(\"Deseja realmente alterar a Descrição: [Y/N] \")\n",
    "            if opc == \"y\" or opc == \"Y\":\n",
    "                val[\"Descrição\"] = srt\n",
    "                val[\"Descrição\"].capitalize()\n",
    "                print(\"Alterações Realizada!\")\n",
    "                return\n",
    "            else:\n",
    "                print(\"Alterações não salvas!\")\n",
    "                return\n",
    "    print(\"Tarefa não encontrada !!\")"
   ]
  },
  {
   "cell_type": "code",
   "execution_count": 6,
   "metadata": {},
   "outputs": [],
   "source": [
    "def Menu():\n",
    "    print(10*\"#\"+f\" Menu de Tarefas \"+10*\"#\")\n",
    "    print(\"1 - Registrar Tarefas\")\n",
    "    print(\"2 - Concluir Tarefa\")\n",
    "    print(\"3 - Editar Tarefa\")\n",
    "    print(\"4 - Listar Tarefa\")\n",
    "    print(\"0 - Sair do programa\")\n",
    "    try:\n",
    "        return int(input(\"Informe uma das alternativas: \"))\n",
    "    except BaseException as e:\n",
    "        print(f\"Erro: {e}\")\n",
    "        print(\"Valor passado invalido tente novamente !!!\")"
   ]
  },
  {
   "cell_type": "code",
   "execution_count": 7,
   "metadata": {},
   "outputs": [],
   "source": [
    "import os\n",
    "\n",
    "def limpar_console():\n",
    "    try:\n",
    "        os.system('cls')\n",
    "    except:\n",
    "        os.system('clear')\n",
    "\n",
    "def pausa():\n",
    "    try:\n",
    "        os.system('pause')\n",
    "    except:\n",
    "        input(\"Pressione <ENTER> para continuar...\")"
   ]
  },
  {
   "cell_type": "code",
   "execution_count": 9,
   "metadata": {},
   "outputs": [
    {
     "name": "stdout",
     "output_type": "stream",
     "text": [
      "########## Menu de Tarefas ##########\n",
      "1 - Registrar Tarefas\n",
      "2 - Concluir Tarefa\n",
      "3 - Editar Tarefa\n",
      "4 - Listar Tarefa\n",
      "0 - Sair do programa\n",
      "########## Registrar Tarefas ##########\n",
      "########## Menu de Tarefas ##########\n",
      "1 - Registrar Tarefas\n",
      "2 - Concluir Tarefa\n",
      "3 - Editar Tarefa\n",
      "4 - Listar Tarefa\n",
      "0 - Sair do programa\n",
      "Programa encerrado !!!\n"
     ]
    }
   ],
   "source": [
    "while True:\n",
    "    match Menu():\n",
    "        case 1:\n",
    "            registro_tarefas(tarefas)\n",
    "        case 2:\n",
    "            concluir_tarefas(tarefas)\n",
    "        case 3:\n",
    "            editar_tarefas(tarefas)\n",
    "        case 4:\n",
    "            listar_tarefas(tarefas)\n",
    "        case 0:\n",
    "            print(\"Programa encerrado !!!\")\n",
    "            break\n",
    "        case _:\n",
    "            print(\"Opção indormada invalida !!!\")"
   ]
  }
 ],
 "metadata": {
  "kernelspec": {
   "display_name": "Python 3",
   "language": "python",
   "name": "python3"
  },
  "language_info": {
   "codemirror_mode": {
    "name": "ipython",
    "version": 3
   },
   "file_extension": ".py",
   "mimetype": "text/x-python",
   "name": "python",
   "nbconvert_exporter": "python",
   "pygments_lexer": "ipython3",
   "version": "3.11.0"
  }
 },
 "nbformat": 4,
 "nbformat_minor": 2
}
