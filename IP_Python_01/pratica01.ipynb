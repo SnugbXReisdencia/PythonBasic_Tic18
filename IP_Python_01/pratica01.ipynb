{
 "cells": [
  {
   "cell_type": "code",
   "execution_count": 2,
   "id": "0459d0d4-d1e9-47c4-89fe-e17d7d9ff986",
   "metadata": {},
   "outputs": [
    {
     "name": "stdout",
     "output_type": "stream",
     "text": [
      "8\n"
     ]
    }
   ],
   "source": [
    "#Questão02.1\n",
    "a = 5\n",
    "b = 3\n",
    "resultado = a + b\n",
    "print(resultado) "
   ]
  },
  {
   "cell_type": "code",
   "execution_count": 3,
   "id": "ee951e1b-cf83-48b0-85fa-537c44cdb734",
   "metadata": {},
   "outputs": [
    {
     "name": "stdout",
     "output_type": "stream",
     "text": [
      "2\n"
     ]
    }
   ],
   "source": [
    "a = 5\n",
    "b = 3\n",
    "resultado = a - b\n",
    "print(resultado)"
   ]
  },
  {
   "cell_type": "code",
   "execution_count": 5,
   "id": "7706648d-8320-44a3-b98b-c6fe9662fc2f",
   "metadata": {},
   "outputs": [
    {
     "name": "stdout",
     "output_type": "stream",
     "text": [
      "15\n"
     ]
    }
   ],
   "source": [
    "a = 5\n",
    "b = 3\n",
    "resultado = a * b\n",
    "print(resultado) \n"
   ]
  },
  {
   "cell_type": "code",
   "execution_count": 6,
   "id": "857ab5bc-638c-4ce2-a54b-3c233c9ff7e3",
   "metadata": {},
   "outputs": [
    {
     "name": "stdout",
     "output_type": "stream",
     "text": [
      "2.5\n"
     ]
    }
   ],
   "source": [
    "a = 5\n",
    "b = 2\n",
    "resultado = a / b\n",
    "print(resultado) "
   ]
  },
  {
   "cell_type": "code",
   "execution_count": 19,
   "id": "deb977ea-78f1-4b4c-aa33-837ef0059578",
   "metadata": {},
   "outputs": [
    {
     "name": "stdout",
     "output_type": "stream",
     "text": [
      "2\n"
     ]
    }
   ],
   "source": [
    "#divisão interio\n",
    "a = 5\n",
    "b = 2\n",
    "resultado = a // b\n",
    "print(resultado)"
   ]
  },
  {
   "cell_type": "code",
   "execution_count": 20,
   "id": "aef9c02f-47fc-48fd-ad41-dcdcb86661fa",
   "metadata": {},
   "outputs": [
    {
     "name": "stdout",
     "output_type": "stream",
     "text": [
      "1\n"
     ]
    }
   ],
   "source": [
    "#Modulo\n",
    "a = 5\n",
    "b = 2\n",
    "resultado = a % b\n",
    "print(resultado) "
   ]
  },
  {
   "cell_type": "code",
   "execution_count": 21,
   "id": "6f5ffe3c-fa80-4831-a89e-270ec5a1426d",
   "metadata": {},
   "outputs": [
    {
     "name": "stdout",
     "output_type": "stream",
     "text": [
      "8\n"
     ]
    }
   ],
   "source": [
    "a = 2\n",
    "b = 3\n",
    "resultado = a ** b\n",
    "print(resultado)"
   ]
  },
  {
   "cell_type": "code",
   "execution_count": 22,
   "id": "08a30155-09d0-40b1-9496-f22db9a35561",
   "metadata": {},
   "outputs": [
    {
     "name": "stdout",
     "output_type": "stream",
     "text": [
      "8\n"
     ]
    }
   ],
   "source": [
    "#Operadores Aritméticos Compostos\n",
    "a = 5\n",
    "a += 3\n",
    "print(a) "
   ]
  },
  {
   "cell_type": "code",
   "execution_count": 29,
   "id": "7b9f9a8c-9a5f-4479-824b-04708fae2397",
   "metadata": {},
   "outputs": [
    {
     "name": "stdout",
     "output_type": "stream",
     "text": [
      "2\n"
     ]
    }
   ],
   "source": [
    "#Subtração e Atribuição\n",
    "a = 5\n",
    "a -= 3\n",
    "print(a)"
   ]
  },
  {
   "cell_type": "code",
   "execution_count": 28,
   "id": "8e0daeb1-a1c2-412d-80e8-1934614f64ef",
   "metadata": {},
   "outputs": [
    {
     "name": "stdout",
     "output_type": "stream",
     "text": [
      "2.5\n"
     ]
    }
   ],
   "source": [
    "#Divisão e Atribuição\n",
    "a = 5\n",
    "a /= 2\n",
    "print(a)"
   ]
  },
  {
   "cell_type": "code",
   "execution_count": 25,
   "id": "89e1b09a-ceef-493d-82c1-4f35015875ea",
   "metadata": {},
   "outputs": [
    {
     "name": "stdout",
     "output_type": "stream",
     "text": [
      "2\n"
     ]
    }
   ],
   "source": [
    "#Divisão Inteira e Atribuição \n",
    "a = 5\n",
    "a //= 2\n",
    "print(a)"
   ]
  },
  {
   "cell_type": "code",
   "execution_count": 30,
   "id": "a7fea8b1-c912-4628-b7c7-202f468a8335",
   "metadata": {},
   "outputs": [
    {
     "name": "stdout",
     "output_type": "stream",
     "text": [
      "1\n"
     ]
    }
   ],
   "source": [
    "#Módulo e Atribuição\n",
    "a = 5\n",
    "a %= 2\n",
    "print(a) "
   ]
  },
  {
   "cell_type": "code",
   "execution_count": 31,
   "id": "57348840-e329-474c-880f-b62e5df4d642",
   "metadata": {},
   "outputs": [
    {
     "name": "stdout",
     "output_type": "stream",
     "text": [
      "8\n"
     ]
    }
   ],
   "source": [
    "#Potenciação e Atribuição\n",
    "a = 2\n",
    "a **= 3\n",
    "print(a)"
   ]
  },
  {
   "cell_type": "code",
   "execution_count": 32,
   "id": "58a2e237-5839-454f-a367-1952e63f7958",
   "metadata": {},
   "outputs": [
    {
     "name": "stdout",
     "output_type": "stream",
     "text": [
      "15\n"
     ]
    }
   ],
   "source": [
    "#Multiplicação e Atribuição\n",
    "a = 5\n",
    "a *= 3\n",
    "print(a)"
   ]
  },
  {
   "cell_type": "markdown",
   "id": "f1f0f08b-aa01-47cd-94db-d70371224ed9",
   "metadata": {},
   "source": [
    "## Diferenças em Relação a C/C++:\n",
    "As principais diferenças em relação aos operadores aritméticos em Python e C/C++ incluem:\n",
    "\n",
    "Divisão de Inteiros:\n",
    "Em Python, a divisão de inteiros (/) resulta em um número de ponto flutuante, a menos que você use o operador de divisão inteira (//). Em C/C++, a divisão de inteiros resulta em um número inteiro truncado.\n",
    "\n",
    "Potenciação:\n",
    "O operador de potenciação em Python é **, enquanto em C/C++, você normalmente usa a função pow() ou implementa sua própria lógica para potenciação.\n",
    "\n",
    "Sem Necessidade de Declarar Tipo:\n",
    "Em Python, as variáveis não precisam ser explicitamente declaradas com um tipo, ao contrário de C/C++ onde você precisa declarar o tipo de variável antes de usá-la."
   ]
  },
  {
   "cell_type": "code",
   "execution_count": 33,
   "id": "63d9b7e8-cf97-4835-b07f-2ab2244253a1",
   "metadata": {},
   "outputs": [
    {
     "name": "stdout",
     "output_type": "stream",
     "text": [
      "O fatorial de 30 em Python é: 265252859812191058636308480000000\n"
     ]
    }
   ],
   "source": [
    "#Questão02.2\n",
    "import math\n",
    "\n",
    "# Calcular o fatorial de 30\n",
    "fatorial_30 = math.factorial(30)\n",
    "\n",
    "print(f\"O fatorial de 30 em Python é: {fatorial_30}\")"
   ]
  },
  {
   "cell_type": "code",
   "execution_count": 37,
   "id": "b65d0c27-fa0a-425d-94a6-9e79b036a216",
   "metadata": {},
   "outputs": [
    {
     "name": "stdout",
     "output_type": "stream",
     "text": [
      "'0' - 48\n",
      "'1' - 49\n",
      "'2' - 50\n",
      "'3' - 51\n",
      "'4' - 52\n",
      "'5' - 53\n",
      "'6' - 54\n",
      "'7' - 55\n",
      "'8' - 56\n",
      "'9' - 57\n"
     ]
    }
   ],
   "source": [
    "#Questão03.01\n",
    "for i in range(10):\n",
    "    char = chr(ord('0') + i)\n",
    "    print(f\"'{char}' - {ord(char)}\")"
   ]
  },
  {
   "cell_type": "code",
   "execution_count": 41,
   "id": "6b2ecbfa-77a8-4eb5-a64d-a4aae56fe7e8",
   "metadata": {},
   "outputs": [
    {
     "name": "stdout",
     "output_type": "stream",
     "text": [
      "'0' - Decimal: 48, Octal: 0o60, Hexadecimal: 0x30\n",
      "'1' - Decimal: 49, Octal: 0o61, Hexadecimal: 0x31\n",
      "'2' - Decimal: 50, Octal: 0o62, Hexadecimal: 0x32\n",
      "'3' - Decimal: 51, Octal: 0o63, Hexadecimal: 0x33\n",
      "'4' - Decimal: 52, Octal: 0o64, Hexadecimal: 0x34\n",
      "'5' - Decimal: 53, Octal: 0o65, Hexadecimal: 0x35\n",
      "'6' - Decimal: 54, Octal: 0o66, Hexadecimal: 0x36\n",
      "'7' - Decimal: 55, Octal: 0o67, Hexadecimal: 0x37\n",
      "'8' - Decimal: 56, Octal: 0o70, Hexadecimal: 0x38\n",
      "'9' - Decimal: 57, Octal: 0o71, Hexadecimal: 0x39\n"
     ]
    }
   ],
   "source": [
    "#Questão03.02\n",
    "for i in range(10):\n",
    "\n",
    "    char = chr(ord('0') + i)\n",
    "    \n",
    "    decimal_code = ord(char)\n",
    "    octal_code = oct(decimal_code)\n",
    "    hexadecimal_code = hex(decimal_code)\n",
    "    \n",
    "    print(f\"'{char}' - Decimal: {decimal_code}, Octal: {octal_code}, Hexadecimal: {hexadecimal_code}\")"
   ]
  },
  {
   "cell_type": "code",
   "execution_count": 43,
   "id": "f30f8305-03af-4643-8935-7175cf776e10",
   "metadata": {},
   "outputs": [
    {
     "name": "stdin",
     "output_type": "stream",
     "text": [
      "Digite um caractere:  k\n"
     ]
    },
    {
     "name": "stdout",
     "output_type": "stream",
     "text": [
      "'k' - Decimal: 107, Octal: 0o153, Hexadecimal: 0x6b\n"
     ]
    }
   ],
   "source": [
    "#Questão03.03\n",
    "caractere = input(\"Digite um caractere: \")\n",
    "\n",
    "\n",
    "decimal_code = ord(caractere)\n",
    "octal_code = oct(decimal_code)\n",
    "hexadecimal_code = hex(decimal_code)\n",
    "\n",
    "\n",
    "print(f\"'{caractere}' - Decimal: {decimal_code}, Octal: {octal_code}, Hexadecimal: {hexadecimal_code}\")\n"
   ]
  },
  {
   "cell_type": "code",
   "execution_count": 44,
   "id": "b93badc5-4b88-4e01-ae65-8744fa1b0fed",
   "metadata": {},
   "outputs": [
    {
     "name": "stdout",
     "output_type": "stream",
     "text": [
      "ana antecede ribeiro na ordem alfabética.\n",
      "ana tem 3 caracteres.\n",
      "ribeiro tem 7 caracteres.\n",
      "ana é um palíndromo!\n"
     ]
    }
   ],
   "source": [
    "#Questão04\n",
    "nome_completo = \"ana ribeiro\"\n",
    "\n",
    "nome, sobrenome = nome_completo.split(maxsplit=1)\n",
    "\n",
    "\n",
    "if nome < sobrenome:\n",
    "    print(f\"{nome} antecede {sobrenome} na ordem alfabética.\")\n",
    "else:\n",
    "    print(f\"{sobrenome} antecede {nome} na ordem alfabética.\")\n",
    "\n",
    "\n",
    "quantidade_caracteres_nome = len(nome)\n",
    "quantidade_caracteres_sobrenome = len(sobrenome)\n",
    "\n",
    "print(f\"{nome} tem {quantidade_caracteres_nome} caracteres.\")\n",
    "print(f\"{sobrenome} tem {quantidade_caracteres_sobrenome} caracteres.\")\n",
    "\n",
    "\n",
    "if nome == nome[::-1]:\n",
    "    print(f\"{nome} é um palíndromo!\")\n",
    "else:\n",
    "    print(f\"{nome} não é um palíndromo.\")\n"
   ]
  },
  {
   "cell_type": "code",
   "execution_count": 8,
   "id": "c6532b5a-6e81-440a-ac1b-d5e376cabd82",
   "metadata": {},
   "outputs": [
    {
     "name": "stdout",
     "output_type": "stream",
     "text": [
      "X-> 4.0, Y -> 5.0\n",
      "Maior potência de 2: 1.7976931348623157e+308\n",
      "Menor potência de 2 positiva: 2.2250738585072014e-308\n",
      "['__abs__', '__add__', '__bool__', '__class__', '__delattr__', '__dir__', '__divmod__', '__doc__', '__eq__', '__float__', '__floordiv__', '__format__', '__ge__', '__getattribute__', '__getformat__', '__getnewargs__', '__gt__', '__hash__', '__init__', '__init_subclass__', '__int__', '__le__', '__lt__', '__mod__', '__mul__', '__ne__', '__neg__', '__new__', '__pos__', '__pow__', '__radd__', '__rdivmod__', '__reduce__', '__reduce_ex__', '__repr__', '__rfloordiv__', '__rmod__', '__rmul__', '__round__', '__rpow__', '__rsub__', '__rtruediv__', '__set_format__', '__setattr__', '__sizeof__', '__str__', '__sub__', '__subclasshook__', '__truediv__', '__trunc__', 'as_integer_ratio', 'conjugate', 'fromhex', 'hex', 'imag', 'is_integer', 'real']\n"
     ]
    }
   ],
   "source": [
    "#Questão05\n",
    "import sys\n",
    "\n",
    "x = 3.0\n",
    "y = 2.5\n",
    "\n",
    "soma = x + y\n",
    "subtracao = x - y\n",
    "multiplicacao = x * y\n",
    "divisao = x / y\n",
    "\n",
    "\n",
    "x += 1  # Equivalente a x = x + 1\n",
    "y *= 2  # Equivalente a y = y * 2\n",
    "\n",
    "print(f\"X-> {x}, Y -> {y}\")\n",
    "\n",
    "\n",
    "maior_potencia_2 = sys.float_info.max\n",
    "\n",
    "menor_potencia_2 = sys.float_info.min\n",
    "\n",
    "print(f\"Maior potência de 2: {maior_potencia_2}\")\n",
    "print(f\"Menor potência de 2 positiva: {menor_potencia_2}\")\n",
    "\n",
    "# lista de metodos para o float:\n",
    "numero_ponto_flutuante = 3.14\n",
    "\n",
    "print(dir(numero_ponto_flutuante))"
   ]
  },
  {
   "cell_type": "code",
   "execution_count": null,
   "id": "954dc10a-68dd-424b-a578-a3576e2d1730",
   "metadata": {},
   "outputs": [],
   "source": [
    "#Questão06\n",
    "\n",
    "L = [1,2,3,4,5,6,7,8,9]\n",
    "\n",
    "print(L[::-1])\n",
    "print(L[-1::])\n",
    "print(L[:-1:])\n",
    "print(L[::-2])\n",
    "print(L[-2::])\n",
    "print(L[:-2:])"
   ]
  },
  {
   "cell_type": "code",
   "execution_count": 11,
   "id": "a712b8b4-1e39-4cf2-b2ce-2bdd8cc627e2",
   "metadata": {},
   "outputs": [
    {
     "name": "stdout",
     "output_type": "stream",
     "text": [
      "Ano de nascimento 1993: Seu signo é Galo\n"
     ]
    }
   ],
   "source": [
    "def encontrar_signo(nascimento):\n",
    "    ciclo_animal = {\n",
    "        range(1936, 2022, 12): \"Rato\",\n",
    "        range(1937, 2023, 12): \"Boi\",\n",
    "        range(1938, 2024, 12): \"Tigre\",\n",
    "        range(1939, 2025, 12): \"Coelho\",\n",
    "        range(1940, 2026, 12): \"Dragão\",\n",
    "        range(1941, 2027, 12): \"Serpente\",\n",
    "        range(1942, 2028, 12): \"Cavalo\",\n",
    "        range(1943, 2029, 12): \"Carneiro\",\n",
    "        range(1944, 2030, 12): \"Macaco\",\n",
    "        range(1945, 2031, 12): \"Galo\",\n",
    "        range(1946, 2032, 12): \"Cachorro\",\n",
    "        range(1947, 2033, 12): \"Javali\"\n",
    "    }\n",
    "\n",
    "    for anos, signo in ciclo_animal.items():\n",
    "        if nascimento in anos:\n",
    "            return signo\n",
    "\n",
    "    return \"Invalido\"\n",
    "\n",
    "\n",
    "nascimento = 1993\n",
    "signo = encontrar_signo(nascimento)\n",
    "\n",
    "if signo != \"Invalido\":\n",
    "    print(f\"Ano de nascimento {nascimento}: Seu signo é {signo}\")\n",
    "else:\n",
    "    print(\"Invalido\")\n"
   ]
  },
  {
   "cell_type": "code",
   "execution_count": null,
   "id": "43e832dd-7cf8-4878-8955-8e0800a48116",
   "metadata": {},
   "outputs": [],
   "source": []
  },
  {
   "cell_type": "code",
   "execution_count": null,
   "id": "598973c6-44c8-4ac5-bcca-af745acaee15",
   "metadata": {},
   "outputs": [],
   "source": []
  }
 ],
 "metadata": {
  "kernelspec": {
   "display_name": "Python 3 (ipykernel)",
   "language": "python",
   "name": "python3"
  },
  "language_info": {
   "codemirror_mode": {
    "name": "ipython",
    "version": 3
   },
   "file_extension": ".py",
   "mimetype": "text/x-python",
   "name": "python",
   "nbconvert_exporter": "python",
   "pygments_lexer": "ipython3",
   "version": "3.8.10"
  }
 },
 "nbformat": 4,
 "nbformat_minor": 5
}
