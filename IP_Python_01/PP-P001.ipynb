{
 "cells": [
  {
   "cell_type": "markdown",
   "metadata": {},
   "source": [
    "# INSTRUÇÃO PRÁTICA - PP-P001\n",
    "## PP - PROGRAMAÇÃO EM PYTHON\n",
    "### OBJETIVO DA ATIVIDADE\n",
    "* Adquirir o domínio dos conceitos de variáveis e tipos de dados básicos da linguagem, assim como dos operadores disponíveis;\n",
    "* Entender o conceito de variáveis mutáveis e imutáveis e suas implicações;\n",
    "* Dominar as características básicas dos tipos de dados avançados: Listas e Tuplas."
   ]
  },
  {
   "cell_type": "markdown",
   "metadata": {},
   "source": [
    "__Exercício 1: Crie um repositório para as atividades deste módulo.__\n",
    "* A sua equipe deve criar um repositório no GitHub que será utilizado para todas as atividades deste módulo. O repositório deve conter:\n",
    "    * Um __README__ descrevendo as informações dos membros da equipe (nome e e-mail) assim como a descrição da estruturação do repositório ( que tem em cada pasta). Este README deve ser feito utilizando Markdown e ser atualizado a cada semana.  \n",
    "    * Uma pasta para cada Instrução prática. As pastas serão criadas na medida que as Instruções Práticas sejam passadas. \n",
    "    * O professor deve ser incluído como colaborador no repositório (usuário GitHub - etvorellana)\n",
    "    * A pasta desta Instrução Prática deve conter um Jupyter Notebook com as respostas de cada um dos exercícios.\n",
    "    * Cada membro da equipe deve ter uma pasta no repositório. Se recomenda também a utilização de um branch para cada desenvolvedor, independentemente de serem definidos branch para atividades específicas.\n",
    "* Publicar no moodle o endereço do repositório e o branch específico em que está desenvolvendo suas atividades."
   ]
  },
  {
   "cell_type": "markdown",
   "metadata": {},
   "source": [
    "__Exercício 2: Manipulação de variáveis de tipo inteiro, explorando as características e os limites.__\n",
    "* Durante a aula foi apresentado o tipo de dado que permite representar um subconjunto dos números inteiros, as instaâncias da classe `int`. Sobre estes tipos de dados:\n",
    "    * Demonstre como funcionam os operadores aritméticos e aritméticos compostos em Python e destaque as principais novidades e diferenças em relação ao conjunto de operadores com inteiros disponíveis em __C/C++__;\n",
    "    * Demonstre a possibilidade de representar números inteiros significativamente grandes calculando o fatorial de 30 e comparando o resultado com o maior valor inteiro que pode ser representado em __C/C++__;\n",
    "    * As variáveis numéricas são imutáveis. Demonstre com exemplos as implicações desta afirmação;\n",
    "    * Verifique quais métodos estão disponíveis para as variáveis inteiras;"
   ]
  },
  {
   "cell_type": "code",
   "execution_count": null,
   "metadata": {},
   "outputs": [],
   "source": [
    "#Células para responder a questão 2\n",
    "fatorial = 1*2*3*4*5*6*7*8*9*10\n",
    "print(fatorial)"
   ]
  },
  {
   "cell_type": "markdown",
   "metadata": {},
   "source": [
    "__Exercício 3: Manipulação de variáveis de tipo caractere e explorando o uso de print.__\n",
    "* Os caracteres numéricos aparecem na tabela ASCII, e em outras, numa sequência que começa pelo caractere ‘0’ até o caractere ‘9’. As strings em __Python__ são formadas por conjuntos de caracteres que podem ser tratadas também como valores numéricos. Com base nestas afirmações desenvolva um programa em __Python__ que:\n",
    "\t* Imprima na tela, utilizando cout, cada um dos caracteres numéricos e seu correspondente código numérico. Pesquise como modificar o comportamento do print para imprimir um objeto de tipo char como caractere e como número.\n",
    "\tExemplo:\n",
    "\t```\n",
    "\t‘0’ - 48\n",
    "\t‘1’ - 49\n",
    "\t…\n",
    "\t‘9’ - 57\n",
    "\t```\n",
    "\t* Modifique o exercício anterior para que a saída imprima também o código numérico em octal e em hexadecimal.\n",
    "\t* Acrescente ao código do exercício anterior a possibilidade de ler um caractere qualquer e imprima no mesmo formato do inciso anterior. Pesquise como ler um valor da entrada padrão.\n",
    "\t* Pesquise como trabalha __Python__ os caracteres especiais,‘ç’ e ‘ã’ por exemplo. Acrescente no código do exercício anterior um exemplo que demonstra como usar este recurso.     "
   ]
  },
  {
   "cell_type": "code",
   "execution_count": 1,
   "metadata": {},
   "outputs": [
    {
     "name": "stdout",
     "output_type": "stream",
     "text": [
      "a  -  97\n",
      "ç  -  231\n"
     ]
    }
   ],
   "source": [
    "#Células para responder a questão 3\n",
    "chr = 'abcd'\n",
    "print(chr[0], ' - ', ord(chr[0]))\n",
    "chr = input(\"Digite um caractere: \")\n",
    "print(chr[0], ' - ', ord(chr[0]))"
   ]
  },
  {
   "cell_type": "markdown",
   "metadata": {},
   "source": [
    "__Exercício 4: Manipulação de variáveis de tipo string e explorando os métodos da classe.__\n",
    "* As variáveis de tipo string possuem uma série de funcionalidades já implementadas e seus caracteres e substrings  podem ser acessados usando indexação e _slicing_. Crie um exemplo onde:\n",
    "    * Declare uma variável `nome` atribuindo a ela seu nome completo;\n",
    "    * Pesquise por funcionalidades já implementadas nas strings e separe em duas variáveis novas seu nome do seu sobrenome;\n",
    "    * Verifique qual das duas novas variáveis antecede a outra na ordem alfabética;\n",
    "    * Verifique a quantidade de caracteres de cada uma das novas variáveis;\n",
    "    * Verifique se seu nome é uma palíndromo;"
   ]
  },
  {
   "cell_type": "code",
   "execution_count": null,
   "metadata": {},
   "outputs": [],
   "source": [
    "#Células para responder a questão 4\n",
    "nome = input(\"Digite seu nome: \")\n",
    "print(nome.upper())\n",
    "print(nome.lower())\n",
    "print(nome.capitalize())\n",
    "print(nome.title())\n",
    "print(nome[-1::-1])"
   ]
  },
  {
   "cell_type": "markdown",
   "metadata": {},
   "source": [
    "__Exercício 5: Manipulação de variáveis de ponto flutuante, explorando as características e os limites.__\n",
    "* Durante a aula foi apresentado o tipo de dado que permite representar um subconjunto dos números de ponto flutuante, as instâncias da classe `float`. Sobre estes tipos de dados:\n",
    "    * Demonstre como funcionam os operadores aritméticos e aritméticos compostos em Python;\n",
    "    * Utilizando o operador de exponenciação mostre qual a maior e a menor potência de 2 que pode ser representada com variáveis de ponto flutuante. \n",
    "    * As variáveis numéricas são imutáveis. Demonstre com exemplos as implicações desta afirmação;\n",
    "    * Verifique quais métodos estão disponíveis para as variáveis de ponto flutuante;"
   ]
  },
  {
   "cell_type": "code",
   "execution_count": null,
   "metadata": {},
   "outputs": [],
   "source": [
    "#Células para responder a questão 5"
   ]
  },
  {
   "cell_type": "markdown",
   "metadata": {},
   "source": [
    "__Exercício 6: Manipulando listas__\n",
    "* Dado o seguinte código, e antes de implementar, veja o que será impresso em cada caso:\n",
    "\n",
    "<img align=\"center\" style=\"padding-right:10px;\" src=\"Figuras/PP-P001_fig_01.png\">\n",
    " \n",
    "* Uma forma simplificada de determinar o seu animal no zodíaco chines é apresentada na seguinte tabela:\n",
    "\n",
    "<img align=\"center\" style=\"padding-right:10px;\" src=\"Figuras/PP-P001_fig_02.png\">\n",
    "\n",
    "Descubra qual o signo de um usuário de acordo com seu ano de nascimento.\n",
    "\n"
   ]
  },
  {
   "cell_type": "code",
   "execution_count": null,
   "metadata": {},
   "outputs": [],
   "source": [
    "#Células para responder a questão 5\n",
    "L = [1,2,3,4,5,6,7,8,9]\n"
   ]
  }
 ],
 "metadata": {
  "kernelspec": {
   "display_name": "Python 3 (ipykernel)",
   "language": "python",
   "name": "python3"
  },
  "language_info": {
   "codemirror_mode": {
    "name": "ipython",
    "version": 3
   },
   "file_extension": ".py",
   "mimetype": "text/x-python",
   "name": "python",
   "nbconvert_exporter": "python",
   "pygments_lexer": "ipython3",
   "version": "3.10.12"
  }
 },
 "nbformat": 4,
 "nbformat_minor": 2
}
