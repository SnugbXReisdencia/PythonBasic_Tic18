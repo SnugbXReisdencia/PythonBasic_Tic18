{
 "cells": [
  {
   "cell_type": "markdown",
   "id": "4a7d08cc",
   "metadata": {},
   "source": [
    "# Exercício 2 - Manipulação de variáveis de tipo inteiro, explorando as características e os limites.\n"
   ]
  },
  {
   "cell_type": "markdown",
   "id": "07267c78",
   "metadata": {},
   "source": [
    "## operadores aritméticos e aritméticos compostos"
   ]
  },
  {
   "cell_type": "code",
   "execution_count": 2,
   "id": "85c7bb2b",
   "metadata": {},
   "outputs": [
    {
     "name": "stdout",
     "output_type": "stream",
     "text": [
      "15\n",
      "5\n",
      "50\n",
      "2.0\n",
      "0\n",
      "100000\n"
     ]
    }
   ],
   "source": [
    "# operadores aritméticos\n",
    "a = 10\n",
    "b = 5\n",
    "\n",
    "# Soma\n",
    "print(a + b)\n",
    "# 15\n",
    "\n",
    "# Subtração\n",
    "print(a - b)\n",
    "# 5\n",
    "\n",
    "# Multiplicação\n",
    "print(a * b)\n",
    "# 50\n",
    "\n",
    "# Divisão\n",
    "print(a / b)\n",
    "# 2.0\n",
    "\n",
    "# Módulo\n",
    "print(a % b)\n",
    "# 0\n",
    "\n",
    "# Exponenciação\n",
    "print(a ** b)\n",
    "# 100000"
   ]
  },
  {
   "cell_type": "code",
   "execution_count": 4,
   "id": "f4fc94a3",
   "metadata": {},
   "outputs": [
    {
     "name": "stdout",
     "output_type": "stream",
     "text": [
      "7\n",
      "5\n",
      "10\n",
      "5.0\n"
     ]
    }
   ],
   "source": [
    "# aritméticos compostos\n",
    "\n",
    "a = 5\n",
    "b = 2\n",
    "sum_result = a + b\n",
    "difference_result = a - b\n",
    "product_result = a * b\n",
    "quotient_result = a / b  # Resultado é um número de ponto flutuante\n",
    "remainder_result = a % b\n",
    "\n",
    "# Operadores Aritméticos Compostos\n",
    "a += b  # a = a + b\n",
    "print(a)\n",
    "a -= b  # a = a - b\n",
    "print(a)\n",
    "a *= b  # a = a * b\n",
    "print(a)\n",
    "a /= b  # a = a / b\n",
    "print(a)"
   ]
  },
  {
   "cell_type": "code",
   "execution_count": 7,
   "id": "dc427cba",
   "metadata": {},
   "outputs": [
    {
     "name": "stdout",
     "output_type": "stream",
     "text": [
      "O fatorial de 30 =  265252859812191058636308480000000\n"
     ]
    }
   ],
   "source": [
    "# Calculando o fatorial de 30\n",
    "fatorial_30 = 1\n",
    "for i in range(1, 31):\n",
    "    fatorial_30 *= i\n",
    "print ('O fatorial de 30 = ', fatorial_30) "
   ]
  },
  {
   "cell_type": "code",
   "execution_count": 10,
   "id": "4a5c6432",
   "metadata": {},
   "outputs": [
    {
     "name": "stdout",
     "output_type": "stream",
     "text": [
      "7\n",
      "5\n"
     ]
    }
   ],
   "source": [
    "# Exemplo de imutabilidade\n",
    "a = 5\n",
    "b = a\n",
    "a += 2\n",
    "\n",
    "print(a)  # Saída: 7\n",
    "print(b)  # Saída: 5 \n",
    "# quando você realiza uma operação que modifica o valor de uma variável, na verdade está criando uma nova variável"
   ]
  },
  {
   "cell_type": "code",
   "execution_count": 19,
   "id": "663e78dd",
   "metadata": {},
   "outputs": [
    {
     "data": {
      "text/plain": [
       "['__abs__',\n",
       " '__add__',\n",
       " '__and__',\n",
       " '__bool__',\n",
       " '__ceil__',\n",
       " '__class__',\n",
       " '__delattr__',\n",
       " '__dir__',\n",
       " '__divmod__',\n",
       " '__doc__',\n",
       " '__eq__',\n",
       " '__float__',\n",
       " '__floor__',\n",
       " '__floordiv__',\n",
       " '__format__',\n",
       " '__ge__',\n",
       " '__getattribute__',\n",
       " '__getnewargs__',\n",
       " '__getstate__',\n",
       " '__gt__',\n",
       " '__hash__',\n",
       " '__index__',\n",
       " '__init__',\n",
       " '__init_subclass__',\n",
       " '__int__',\n",
       " '__invert__',\n",
       " '__le__',\n",
       " '__lshift__',\n",
       " '__lt__',\n",
       " '__mod__',\n",
       " '__mul__',\n",
       " '__ne__',\n",
       " '__neg__',\n",
       " '__new__',\n",
       " '__or__',\n",
       " '__pos__',\n",
       " '__pow__',\n",
       " '__radd__',\n",
       " '__rand__',\n",
       " '__rdivmod__',\n",
       " '__reduce__',\n",
       " '__reduce_ex__',\n",
       " '__repr__',\n",
       " '__rfloordiv__',\n",
       " '__rlshift__',\n",
       " '__rmod__',\n",
       " '__rmul__',\n",
       " '__ror__',\n",
       " '__round__',\n",
       " '__rpow__',\n",
       " '__rrshift__',\n",
       " '__rshift__',\n",
       " '__rsub__',\n",
       " '__rtruediv__',\n",
       " '__rxor__',\n",
       " '__setattr__',\n",
       " '__sizeof__',\n",
       " '__str__',\n",
       " '__sub__',\n",
       " '__subclasshook__',\n",
       " '__truediv__',\n",
       " '__trunc__',\n",
       " '__xor__',\n",
       " 'as_integer_ratio',\n",
       " 'bit_count',\n",
       " 'bit_length',\n",
       " 'conjugate',\n",
       " 'denominator',\n",
       " 'from_bytes',\n",
       " 'imag',\n",
       " 'numerator',\n",
       " 'real',\n",
       " 'to_bytes']"
      ]
     },
     "execution_count": 19,
     "metadata": {},
     "output_type": "execute_result"
    }
   ],
   "source": [
    "#  Verifique quais métodos estão disponíveis para as variáveis inteiras;\n",
    "dir(int)"
   ]
  },
  {
   "cell_type": "markdown",
   "id": "eb2ad9a7",
   "metadata": {},
   "source": [
    "# Exercício 3: Manipulação de variáveis de tipo string e explorando o uso de print."
   ]
  },
  {
   "cell_type": "code",
   "execution_count": 32,
   "id": "ffb7d2c8",
   "metadata": {},
   "outputs": [
    {
     "name": "stdout",
     "output_type": "stream",
     "text": [
      " 0 - 48 Octal: 0o60, Hexadecimal: 0x30\n",
      " 1 - 49 Octal: 0o61, Hexadecimal: 0x31\n",
      " 2 - 50 Octal: 0o62, Hexadecimal: 0x32\n",
      " 3 - 51 Octal: 0o63, Hexadecimal: 0x33\n",
      " 4 - 52 Octal: 0o64, Hexadecimal: 0x34\n",
      " 5 - 53 Octal: 0o65, Hexadecimal: 0x35\n",
      " 6 - 54 Octal: 0o66, Hexadecimal: 0x36\n",
      " 7 - 55 Octal: 0o67, Hexadecimal: 0x37\n",
      " 8 - 56 Octal: 0o70, Hexadecimal: 0x38\n",
      " 9 - 57 Octal: 0o71, Hexadecimal: 0x39\n",
      "digite um caracter: g\n",
      " g - 103 Octal: 0o147, Hexadecimal: 0x67\n",
      "Caracteres especiais: \n",
      " ã - 227 Octal: 0o343, Hexadecimal: 0xe3\n",
      " ç - 231 Octal: 0o347, Hexadecimal: 0xe7\n"
     ]
    }
   ],
   "source": [
    "#código numérico da tabela ASCII dos numeros 0 a 9\n",
    "for i in range(10):\n",
    "     print(f\" {i} - {ord(str(i))} Octal: {oct(ord(str(i)))}, Hexadecimal: {hex(ord(str(i)))}\")\n",
    "        \n",
    "caracter = input(\"digite um caracter: \")\n",
    "print(f\" {caracter} - {ord(str(caracter))} Octal: {oct(ord(str(caracter)))}, Hexadecimal: {hex(ord(str(caracter)))}\")\n",
    "\n",
    "special_caracter = {'ç', 'ã'}\n",
    "print(\"Caracteres especiais: \")\n",
    "for i in special_caracter:  \n",
    "      print(f\" {i} - {ord(str(i))} Octal: {oct(ord(str(i)))}, Hexadecimal: {hex(ord(str(i)))}\")\n",
    "       "
   ]
  },
  {
   "cell_type": "markdown",
   "id": "3a760b96",
   "metadata": {},
   "source": [
    "# Exercício 4: Manipulação de variáveis de tipo string e explorando os métodos da classe."
   ]
  },
  {
   "cell_type": "code",
   "execution_count": 61,
   "id": "605acb93",
   "metadata": {},
   "outputs": [
    {
     "name": "stdout",
     "output_type": "stream",
     "text": [
      "Danilo\n",
      "da Conceição Santos\n"
     ]
    }
   ],
   "source": [
    "nome = \"Danilo da Conceição Santos\"\n",
    "\n",
    "nome, sobrenome = nome.split(maxsplit=1)\n",
    "\n",
    "print(nome)\n",
    "print(sobrenome)"
   ]
  },
  {
   "cell_type": "code",
   "execution_count": 52,
   "id": "3a4eb202",
   "metadata": {},
   "outputs": [
    {
     "name": "stdout",
     "output_type": "stream",
     "text": [
      "Danilo antecede da Conceição Santos na ordem alfabética.\n"
     ]
    }
   ],
   "source": [
    "if nome < sobrenome:\n",
    "    print(f\"{nome} antecede {sobrenome} na ordem alfabética.\")\n",
    "else:\n",
    "    print(f\"{sobrenome} antecede {nome} na ordem alfabética.\")"
   ]
  },
  {
   "cell_type": "code",
   "execution_count": 53,
   "id": "275bed59",
   "metadata": {},
   "outputs": [
    {
     "name": "stdout",
     "output_type": "stream",
     "text": [
      "O nome 'Danilo' tem 6 caracteres.\n",
      "O sobrenome 'da Conceição Santos' tem 19 caracteres.\n"
     ]
    }
   ],
   "source": [
    "len_nome = len(nome)\n",
    "len_sobrenome = len(sobrenome)\n",
    "\n",
    "print(f\"O nome '{nome}' tem {len_nome} caracteres.\")\n",
    "print(f\"O sobrenome '{sobrenome}' tem {len_sobrenome} caracteres.\")"
   ]
  },
  {
   "cell_type": "code",
   "execution_count": 62,
   "id": "a5194305",
   "metadata": {},
   "outputs": [
    {
     "name": "stdout",
     "output_type": "stream",
     "text": [
      "O nome não é um palíndromo.\n"
     ]
    }
   ],
   "source": [
    "# Verifica se o nome é uma palíndromo\n",
    "if nome == nome[::-1]:\n",
    "    print(\"O nome é um palíndromo.\")\n",
    "else:\n",
    "    print(\"O nome não é um palíndromo.\")"
   ]
  },
  {
   "cell_type": "markdown",
   "id": "5912f27d",
   "metadata": {},
   "source": [
    "# Manipulação de variáveis de ponto flutuante, explorando as características e os limites"
   ]
  },
  {
   "cell_type": "code",
   "execution_count": 64,
   "id": "7f8f1ecb",
   "metadata": {},
   "outputs": [
    {
     "name": "stdout",
     "output_type": "stream",
     "text": [
      "7.0\n",
      "3.0\n",
      "10.0\n",
      "2.5\n",
      "1.0\n",
      "7.0\n",
      "5.0\n",
      "10.0\n",
      "5.0\n"
     ]
    }
   ],
   "source": [
    "# Operadores Aritméticos\n",
    "a = 5.0\n",
    "b = 2.0\n",
    "\n",
    "soma = a + b\n",
    "print(soma)\n",
    "subtracao = a - b\n",
    "print(subtracao)\n",
    "multiplicacao = a * b\n",
    "print(multiplicacao)\n",
    "divisao = a / b\n",
    "print(divisao)\n",
    "resto = a % b\n",
    "print(resto)\n",
    "# Operadores Aritméticos Compostos\n",
    "a += b  # a = a + b\n",
    "print(a)\n",
    "a -= b  # a = a - b\n",
    "print(a)\n",
    "a *= b  # a = a * b\n",
    "print(a)\n",
    "a /= b  # a = a / b\n",
    "print(a)"
   ]
  },
  {
   "cell_type": "code",
   "execution_count": 65,
   "id": "4c346569",
   "metadata": {},
   "outputs": [
    {
     "name": "stdout",
     "output_type": "stream",
     "text": [
      "Maior potência de 2: 8.98846567431158e+307\n",
      "Menor potência de 2: 2.2250738585072014e-308\n"
     ]
    }
   ],
   "source": [
    "# Maior potência de 2 representável\n",
    "maior_potencia = 2.0 ** 1023\n",
    "\n",
    "# Menor potência de 2 representável\n",
    "menor_potencia = 2.0 ** -1022\n",
    "\n",
    "print(f\"Maior potência de 2: {maior_potencia}\")\n",
    "print(f\"Menor potência de 2: {menor_potencia}\")"
   ]
  },
  {
   "cell_type": "code",
   "execution_count": 66,
   "id": "38f3200a",
   "metadata": {},
   "outputs": [
    {
     "data": {
      "text/plain": [
       "['__abs__',\n",
       " '__add__',\n",
       " '__bool__',\n",
       " '__ceil__',\n",
       " '__class__',\n",
       " '__delattr__',\n",
       " '__dir__',\n",
       " '__divmod__',\n",
       " '__doc__',\n",
       " '__eq__',\n",
       " '__float__',\n",
       " '__floor__',\n",
       " '__floordiv__',\n",
       " '__format__',\n",
       " '__ge__',\n",
       " '__getattribute__',\n",
       " '__getformat__',\n",
       " '__getnewargs__',\n",
       " '__getstate__',\n",
       " '__gt__',\n",
       " '__hash__',\n",
       " '__init__',\n",
       " '__init_subclass__',\n",
       " '__int__',\n",
       " '__le__',\n",
       " '__lt__',\n",
       " '__mod__',\n",
       " '__mul__',\n",
       " '__ne__',\n",
       " '__neg__',\n",
       " '__new__',\n",
       " '__pos__',\n",
       " '__pow__',\n",
       " '__radd__',\n",
       " '__rdivmod__',\n",
       " '__reduce__',\n",
       " '__reduce_ex__',\n",
       " '__repr__',\n",
       " '__rfloordiv__',\n",
       " '__rmod__',\n",
       " '__rmul__',\n",
       " '__round__',\n",
       " '__rpow__',\n",
       " '__rsub__',\n",
       " '__rtruediv__',\n",
       " '__setattr__',\n",
       " '__sizeof__',\n",
       " '__str__',\n",
       " '__sub__',\n",
       " '__subclasshook__',\n",
       " '__truediv__',\n",
       " '__trunc__',\n",
       " 'as_integer_ratio',\n",
       " 'conjugate',\n",
       " 'fromhex',\n",
       " 'hex',\n",
       " 'imag',\n",
       " 'is_integer',\n",
       " 'real']"
      ]
     },
     "execution_count": 66,
     "metadata": {},
     "output_type": "execute_result"
    }
   ],
   "source": [
    "# métodos estão disponíveis para as variáveis de ponto flutuante\n",
    "num = 3.14\n",
    "dir(num)"
   ]
  },
  {
   "cell_type": "markdown",
   "id": "09cabaef",
   "metadata": {},
   "source": [
    "# Exercício 6: Manipulando lista"
   ]
  },
  {
   "cell_type": "code",
   "execution_count": 67,
   "id": "fea57575",
   "metadata": {},
   "outputs": [
    {
     "name": "stdout",
     "output_type": "stream",
     "text": [
      "[9, 8, 7, 6, 5, 4, 3, 2, 1]\n",
      "[9]\n",
      "[1, 2, 3, 4, 5, 6, 7, 8]\n",
      "[9, 7, 5, 3, 1]\n",
      "[8, 9]\n",
      "[1, 2, 3, 4, 5, 6, 7]\n"
     ]
    }
   ],
   "source": [
    "L = [1, 2, 3, 4, 5, 6, 7, 8, 9] \n",
    "print(L[::-1]) #  Inverte a lista.\n",
    "print(L[-1::]) #  Imprime o último elemento.\n",
    "print(L[:-1:]) #  Todos os elementos exceto o último.\n",
    "print(L[::-2]) #  Inverte a lista pulando de 2 em 2.\n",
    "print(L[-2::]) #  Do penúltimo até o último elemento.\n",
    "print(L[:-2:]) #  Todos os elementos exceto os dois últimos."
   ]
  },
  {
   "cell_type": "code",
   "execution_count": 68,
   "id": "3b91e42a",
   "metadata": {},
   "outputs": [
    {
     "name": "stdout",
     "output_type": "stream",
     "text": [
      "Digite o ano de nascimento: 1984\n",
      "O seu signo do zodíaco chinês é: Macaco\n"
     ]
    }
   ],
   "source": [
    "signos = ['Macaco', 'Galo', 'Cão', 'Porco', 'Rato', 'Boi', 'Tigre', 'Coelho', 'Dragão', 'Serpente', 'Cavalo', 'Carneiro']\n",
    "\n",
    "ano_nascimento = int(input(\"Digite o ano de nascimento: \"))\n",
    "\n",
    "indice_signo = (ano_nascimento - 1900) % 12\n",
    "signo = signos[indice_signo]\n",
    "\n",
    "print(f\"O seu signo do zodíaco chinês é: {signo}\")"
   ]
  },
  {
   "cell_type": "code",
   "execution_count": null,
   "id": "658e480f",
   "metadata": {},
   "outputs": [],
   "source": []
  }
 ],
 "metadata": {
  "kernelspec": {
   "display_name": "Python 3 (ipykernel)",
   "language": "python",
   "name": "python3"
  },
  "language_info": {
   "codemirror_mode": {
    "name": "ipython",
    "version": 3
   },
   "file_extension": ".py",
   "mimetype": "text/x-python",
   "name": "python",
   "nbconvert_exporter": "python",
   "pygments_lexer": "ipython3",
   "version": "3.11.5"
  }
 },
 "nbformat": 4,
 "nbformat_minor": 5
}
