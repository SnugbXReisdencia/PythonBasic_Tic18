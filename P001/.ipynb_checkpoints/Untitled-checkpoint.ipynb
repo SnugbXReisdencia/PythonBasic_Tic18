{
 "cells": [
  {
   "cell_type": "markdown",
   "id": "21ab81e5",
   "metadata": {},
   "source": [
    "# Exercício 2 - Manipulação de variáveis de tipo inteiro, explorando as características e os limites.\n"
   ]
  },
  {
   "cell_type": "markdown",
   "id": "95ba87c3",
   "metadata": {},
   "source": [
    "## operadores aritméticos e aritméticos compostos"
   ]
  },
  {
   "cell_type": "code",
   "execution_count": 2,
   "id": "7b1cc1eb",
   "metadata": {},
   "outputs": [
    {
     "name": "stdout",
     "output_type": "stream",
     "text": [
      "15\n",
      "5\n",
      "50\n",
      "2.0\n",
      "0\n",
      "100000\n"
     ]
    }
   ],
   "source": [
    "# operadores aritméticos\n",
    "a = 10\n",
    "b = 5\n",
    "\n",
    "# Soma\n",
    "print(a + b)\n",
    "# 15\n",
    "\n",
    "# Subtração\n",
    "print(a - b)\n",
    "# 5\n",
    "\n",
    "# Multiplicação\n",
    "print(a * b)\n",
    "# 50\n",
    "\n",
    "# Divisão\n",
    "print(a / b)\n",
    "# 2.0\n",
    "\n",
    "# Módulo\n",
    "print(a % b)\n",
    "# 0\n",
    "\n",
    "# Exponenciação\n",
    "print(a ** b)\n",
    "# 100000"
   ]
  },
  {
   "cell_type": "code",
   "execution_count": 4,
   "id": "c8608278",
   "metadata": {},
   "outputs": [
    {
     "name": "stdout",
     "output_type": "stream",
     "text": [
      "7\n",
      "5\n",
      "10\n",
      "5.0\n"
     ]
    }
   ],
   "source": [
    "# aritméticos compostos\n",
    "\n",
    "a = 5\n",
    "b = 2\n",
    "sum_result = a + b\n",
    "difference_result = a - b\n",
    "product_result = a * b\n",
    "quotient_result = a / b  # Resultado é um número de ponto flutuante\n",
    "remainder_result = a % b\n",
    "\n",
    "# Operadores Aritméticos Compostos\n",
    "a += b  # a = a + b\n",
    "print(a)\n",
    "a -= b  # a = a - b\n",
    "print(a)\n",
    "a *= b  # a = a * b\n",
    "print(a)\n",
    "a /= b  # a = a / b\n",
    "print(a)"
   ]
  },
  {
   "cell_type": "code",
   "execution_count": 7,
   "id": "bfa2158f",
   "metadata": {},
   "outputs": [
    {
     "name": "stdout",
     "output_type": "stream",
     "text": [
      "O fatorial de 30 =  265252859812191058636308480000000\n"
     ]
    }
   ],
   "source": [
    "# Calculando o fatorial de 30\n",
    "fatorial_30 = 1\n",
    "for i in range(1, 31):\n",
    "    fatorial_30 *= i\n",
    "print ('O fatorial de 30 = ', fatorial_30) "
   ]
  },
  {
   "cell_type": "code",
   "execution_count": 10,
   "id": "11cf286d",
   "metadata": {},
   "outputs": [
    {
     "name": "stdout",
     "output_type": "stream",
     "text": [
      "7\n",
      "5\n"
     ]
    }
   ],
   "source": [
    "# Exemplo de imutabilidade\n",
    "a = 5\n",
    "b = a\n",
    "a += 2\n",
    "\n",
    "print(a)  # Saída: 7\n",
    "print(b)  # Saída: 5 \n",
    "# quando você realiza uma operação que modifica o valor de uma variável, na verdade está criando uma nova variável"
   ]
  },
  {
   "cell_type": "code",
   "execution_count": 19,
   "id": "e911fb0d",
   "metadata": {},
   "outputs": [
    {
     "data": {
      "text/plain": [
       "['__abs__',\n",
       " '__add__',\n",
       " '__and__',\n",
       " '__bool__',\n",
       " '__ceil__',\n",
       " '__class__',\n",
       " '__delattr__',\n",
       " '__dir__',\n",
       " '__divmod__',\n",
       " '__doc__',\n",
       " '__eq__',\n",
       " '__float__',\n",
       " '__floor__',\n",
       " '__floordiv__',\n",
       " '__format__',\n",
       " '__ge__',\n",
       " '__getattribute__',\n",
       " '__getnewargs__',\n",
       " '__getstate__',\n",
       " '__gt__',\n",
       " '__hash__',\n",
       " '__index__',\n",
       " '__init__',\n",
       " '__init_subclass__',\n",
       " '__int__',\n",
       " '__invert__',\n",
       " '__le__',\n",
       " '__lshift__',\n",
       " '__lt__',\n",
       " '__mod__',\n",
       " '__mul__',\n",
       " '__ne__',\n",
       " '__neg__',\n",
       " '__new__',\n",
       " '__or__',\n",
       " '__pos__',\n",
       " '__pow__',\n",
       " '__radd__',\n",
       " '__rand__',\n",
       " '__rdivmod__',\n",
       " '__reduce__',\n",
       " '__reduce_ex__',\n",
       " '__repr__',\n",
       " '__rfloordiv__',\n",
       " '__rlshift__',\n",
       " '__rmod__',\n",
       " '__rmul__',\n",
       " '__ror__',\n",
       " '__round__',\n",
       " '__rpow__',\n",
       " '__rrshift__',\n",
       " '__rshift__',\n",
       " '__rsub__',\n",
       " '__rtruediv__',\n",
       " '__rxor__',\n",
       " '__setattr__',\n",
       " '__sizeof__',\n",
       " '__str__',\n",
       " '__sub__',\n",
       " '__subclasshook__',\n",
       " '__truediv__',\n",
       " '__trunc__',\n",
       " '__xor__',\n",
       " 'as_integer_ratio',\n",
       " 'bit_count',\n",
       " 'bit_length',\n",
       " 'conjugate',\n",
       " 'denominator',\n",
       " 'from_bytes',\n",
       " 'imag',\n",
       " 'numerator',\n",
       " 'real',\n",
       " 'to_bytes']"
      ]
     },
     "execution_count": 19,
     "metadata": {},
     "output_type": "execute_result"
    }
   ],
   "source": [
    "#  Verifique quais métodos estão disponíveis para as variáveis inteiras;\n",
    "dir(int)"
   ]
  },
  {
   "cell_type": "markdown",
   "id": "fd06d6c8",
   "metadata": {},
   "source": [
    "# Exercício 3: Manipulação de variáveis de tipo string e explorando o uso de print."
   ]
  },
  {
   "cell_type": "code",
   "execution_count": 32,
   "id": "ef7a7789",
   "metadata": {},
   "outputs": [
    {
     "name": "stdout",
     "output_type": "stream",
     "text": [
      " 0 - 48 Octal: 0o60, Hexadecimal: 0x30\n",
      " 1 - 49 Octal: 0o61, Hexadecimal: 0x31\n",
      " 2 - 50 Octal: 0o62, Hexadecimal: 0x32\n",
      " 3 - 51 Octal: 0o63, Hexadecimal: 0x33\n",
      " 4 - 52 Octal: 0o64, Hexadecimal: 0x34\n",
      " 5 - 53 Octal: 0o65, Hexadecimal: 0x35\n",
      " 6 - 54 Octal: 0o66, Hexadecimal: 0x36\n",
      " 7 - 55 Octal: 0o67, Hexadecimal: 0x37\n",
      " 8 - 56 Octal: 0o70, Hexadecimal: 0x38\n",
      " 9 - 57 Octal: 0o71, Hexadecimal: 0x39\n",
      "digite um caracter: g\n",
      " g - 103 Octal: 0o147, Hexadecimal: 0x67\n",
      "Caracteres especiais: \n",
      " ã - 227 Octal: 0o343, Hexadecimal: 0xe3\n",
      " ç - 231 Octal: 0o347, Hexadecimal: 0xe7\n"
     ]
    }
   ],
   "source": [
    "#código numérico da tabela ASCII dos numeros 0 a 9\n",
    "for i in range(10):\n",
    "     print(f\" {i} - {ord(str(i))} Octal: {oct(ord(str(i)))}, Hexadecimal: {hex(ord(str(i)))}\")\n",
    "        \n",
    "caracter = input(\"digite um caracter: \")\n",
    "print(f\" {caracter} - {ord(str(caracter))} Octal: {oct(ord(str(caracter)))}, Hexadecimal: {hex(ord(str(caracter)))}\")\n",
    "\n",
    "special_caracter = {'ç', 'ã'}\n",
    "print(\"Caracteres especiais: \")\n",
    "for i in special_caracter:  \n",
    "      print(f\" {i} - {ord(str(i))} Octal: {oct(ord(str(i)))}, Hexadecimal: {hex(ord(str(i)))}\")\n",
    "       "
   ]
  },
  {
   "cell_type": "markdown",
   "id": "dcb53df9",
   "metadata": {},
   "source": [
    "# Exercício 4: Manipulação de variáveis de tipo string e explorando os métodos da classe."
   ]
  },
  {
   "cell_type": "code",
   "execution_count": 43,
   "id": "cb68dc36",
   "metadata": {},
   "outputs": [
    {
     "ename": "ValueError",
     "evalue": "too many values to unpack (expected 2)",
     "output_type": "error",
     "traceback": [
      "\u001b[1;31m---------------------------------------------------------------------------\u001b[0m",
      "\u001b[1;31mValueError\u001b[0m                                Traceback (most recent call last)",
      "Cell \u001b[1;32mIn[43], line 3\u001b[0m\n\u001b[0;32m      1\u001b[0m nomec \u001b[38;5;241m=\u001b[39m \u001b[38;5;124m\"\u001b[39m\u001b[38;5;124mDanilo da Conceição Santos\u001b[39m\u001b[38;5;124m\"\u001b[39m\n\u001b[1;32m----> 3\u001b[0m nome, sobrenome \u001b[38;5;241m=\u001b[39m nomec\u001b[38;5;241m.\u001b[39msplit()\n\u001b[0;32m      5\u001b[0m \u001b[38;5;28mprint\u001b[39m(nome)\n\u001b[0;32m      6\u001b[0m \u001b[38;5;28mprint\u001b[39m(sobrenome)\n",
      "\u001b[1;31mValueError\u001b[0m: too many values to unpack (expected 2)"
     ]
    }
   ],
   "source": [
    "nome = \"Danilo da Conceição Santos\"\n",
    "\n",
    "nome, sobrenome = nome.split()\n",
    "\n",
    "print(nome)\n",
    "print(sobrenome)"
   ]
  },
  {
   "cell_type": "code",
   "execution_count": null,
   "id": "7ae111ca",
   "metadata": {},
   "outputs": [],
   "source": []
  },
  {
   "cell_type": "code",
   "execution_count": null,
   "id": "ce0179de",
   "metadata": {},
   "outputs": [],
   "source": []
  }
 ],
 "metadata": {
  "kernelspec": {
   "display_name": "Python 3 (ipykernel)",
   "language": "python",
   "name": "python3"
  },
  "language_info": {
   "codemirror_mode": {
    "name": "ipython",
    "version": 3
   },
   "file_extension": ".py",
   "mimetype": "text/x-python",
   "name": "python",
   "nbconvert_exporter": "python",
   "pygments_lexer": "ipython3",
   "version": "3.11.5"
  }
 },
 "nbformat": 4,
 "nbformat_minor": 5
}
